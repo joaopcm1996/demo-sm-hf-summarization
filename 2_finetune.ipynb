{
 "cells": [
  {
   "cell_type": "code",
   "execution_count": null,
   "metadata": {},
   "outputs": [],
   "source": [
    "! pip install -U sagemaker"
   ]
  },
  {
   "cell_type": "code",
   "execution_count": null,
   "metadata": {},
   "outputs": [],
   "source": [
    "import sagemaker\n",
    "\n",
    "session = sagemaker.Session()\n",
    "session_bucket = session.default_bucket()\n",
    "role = sagemaker.get_execution_role()"
   ]
  },
  {
   "cell_type": "code",
   "execution_count": null,
   "metadata": {},
   "outputs": [],
   "source": [
    "from sagemaker.huggingface import HuggingFace\n",
    "\n",
    "git_config = {'repo': 'https://github.com/huggingface/transformers.git','branch': 'v4.6.1'}  # v4.6.1 is the most recent Transformers version to be supported natively by SageMaker (at time of writing) \n",
    "s3_prefix = 'xsum-dataset' # S3 key where data files are stored \n",
    "pytorch_version = '1.7.1'\n",
    "python_version  ='py36'\n",
    "# for Data Parallel training \n",
    "# distribution = {\"smdistributed\": { \"dataparallel\": { \"enabled\": True } } }\n",
    "\n",
    "hyperparameters={\n",
    "     'train_file':'/opt/ml/input/data/train/train.csv',\n",
    "     'validation_file':'/opt/ml/input/data/validation/validation.csv',\n",
    "     'summary_column':'summary',\n",
    "     'text_column':'text',\n",
    "     'per_device_train_batch_size': 2,\n",
    "     'per_device_eval_batch_size': 2,\n",
    "     'model_name_or_path':'google/pegasus-large', # Pre-trained Pegasus model\n",
    "     'do_train':True,\n",
    "     'do_eval':True,\n",
    "     'output_dir':'/opt/ml/model',\n",
    "     'num_train_epochs': 2,\n",
    "     'learning_rate': 5e-5,\n",
    "     'seed': 7,\n",
    "     'max_source_length': 512 # This is the maximum sequence length supported by Pegasus\n",
    " }\n",
    " \n",
    "huggingface_estimator = HuggingFace(entry_point='run_summarization.py',\n",
    "                                    source_dir='./examples/pytorch/summarization',\n",
    "                                    git_config=git_config,\n",
    "                                    instance_type='ml.p3.2xlarge',     # ml.p3.16xlarge needed for DDP\n",
    "                                    #distribution=distribution \n",
    "                                    volume_size = 200,\n",
    "                                    instance_count=1,\n",
    "                                    role=role,\n",
    "                                    pytorch_version=pytorch_version,\n",
    "                                    transformers_version='4.6.1',\n",
    "                                    py_version=python_version,\n",
    "                                    hyperparameters = hyperparameters\n",
    "                                   )\n",
    "\n",
    "huggingface_estimator.fit({'train':f's3://{session_bucket}/{s3_prefix}/train.csv',\n",
    "                           'validation':f's3://{session_bucket}/{s3_prefix}/validation.csv'})"
   ]
  }
 ],
 "metadata": {
  "interpreter": {
   "hash": "1edec871b91163b213f4329288431f1a5a5acc7dd459a3a5b7ed9d1c87524502"
  },
  "kernelspec": {
   "display_name": "Python 3.8.2 64-bit ('testSam': venv)",
   "name": "python3"
  },
  "language_info": {
   "name": "python",
   "version": ""
  }
 },
 "nbformat": 4,
 "nbformat_minor": 5
}