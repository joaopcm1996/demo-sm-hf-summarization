{
 "cells": [
  {
   "cell_type": "code",
   "execution_count": null,
   "metadata": {},
   "outputs": [],
   "source": [
    "# Download and untar the XSUM dataset \n",
    "! wget http://bollin.inf.ed.ac.uk/public/direct/XSUM-EMNLP18-Summary-Data-Original.tar.gz\n",
    "! tar -xf XSUM-EMNLP18-Summary-Data-Original.tar.gz"
   ]
  },
  {
   "cell_type": "code",
   "execution_count": 3,
   "metadata": {},
   "outputs": [],
   "source": [
    "import os, io, boto3, sagemaker\n",
    "import pandas as pd\n",
    "from tqdm import tqdm\n",
    "from sklearn.model_selection import train_test_split\n",
    "\n",
    "s3_resource = boto3.resource('s3')\n",
    "\n",
    "session = sagemaker.Session()\n",
    "session_bucket = session.default_bucket()"
   ]
  },
  {
   "cell_type": "code",
   "execution_count": 4,
   "metadata": {},
   "outputs": [
    {
     "name": "stderr",
     "output_type": "stream",
     "text": [
      "100%|██████████| 237018/237018 [01:40<00:00, 2352.69it/s]\n"
     ]
    }
   ],
   "source": [
    "# Extract every summary and text body from the downloaded files \n",
    "summaries = []\n",
    "bodies = []\n",
    "\n",
    "for filename in tqdm(os.listdir('./bbc-summary-data')):\n",
    "    with open(f'./bbc-summary-data/{filename}') as h: \n",
    "        data = h.readlines()\n",
    "        end_of_file = len(data)\n",
    "        \n",
    "        i = 0        \n",
    "        while i < end_of_file:\n",
    "            \n",
    "            if data[i] == '[SN]FIRST-SENTENCE[SN]\\n':\n",
    "                i += 1\n",
    "                new_summary = ''\n",
    "                while data[i] != '\\n':\n",
    "                    new_summary += f'{data[i].strip()} '\n",
    "                    i += 1\n",
    "                summaries.append(new_summary)\n",
    "                \n",
    "            elif data[i] == '[SN]RESTBODY[SN]\\n':\n",
    "                i += 1\n",
    "                new_body = ''\n",
    "                while i != end_of_file - 1:\n",
    "                    new_body += f'{data[i].strip()} '\n",
    "                    i += 1\n",
    "                bodies.append(new_body)\n",
    "            \n",
    "            i += 1"
   ]
  },
  {
   "cell_type": "code",
   "execution_count": 5,
   "metadata": {},
   "outputs": [
    {
     "name": "stdout",
     "output_type": "stream",
     "text": [
      "Deleted 395 empty samples\n"
     ]
    }
   ],
   "source": [
    "# Clean all missing text bodies / summaries \n",
    "n_nulls = 0\n",
    "for i,e in reversed(list(enumerate(bodies))):\n",
    "    if bodies[i] == '' or summaries[i] == '':\n",
    "        del bodies[i], summaries[i]\n",
    "        n_nulls += 1\n",
    "\n",
    "print(f'Deleted {str(n_nulls)} empty samples')"
   ]
  },
  {
   "cell_type": "code",
   "execution_count": 6,
   "metadata": {},
   "outputs": [],
   "source": [
    "# Convert data to Pandas Dataframe, split into train/validation\n",
    "train_df, validation_df = train_test_split(pd.DataFrame({'text':bodies,'summary':summaries}), test_size=0.15, random_state=7)\n",
    "\n",
    "train_df.name = 'train'\n",
    "validation_df.name = 'validation'"
   ]
  },
  {
   "cell_type": "code",
   "execution_count": 7,
   "metadata": {},
   "outputs": [
    {
     "data": {
      "text/html": [
       "<div>\n",
       "<style scoped>\n",
       "    .dataframe tbody tr th:only-of-type {\n",
       "        vertical-align: middle;\n",
       "    }\n",
       "\n",
       "    .dataframe tbody tr th {\n",
       "        vertical-align: top;\n",
       "    }\n",
       "\n",
       "    .dataframe thead th {\n",
       "        text-align: right;\n",
       "    }\n",
       "</style>\n",
       "<table border=\"1\" class=\"dataframe\">\n",
       "  <thead>\n",
       "    <tr style=\"text-align: right;\">\n",
       "      <th></th>\n",
       "      <th>text</th>\n",
       "      <th>summary</th>\n",
       "    </tr>\n",
       "  </thead>\n",
       "  <tbody>\n",
       "    <tr>\n",
       "      <th>76491</th>\n",
       "      <td>Rail, Maritime and Transport union (RMT) membe...</td>\n",
       "      <td>Possible strike action could disrupt Caledonia...</td>\n",
       "    </tr>\n",
       "    <tr>\n",
       "      <th>231752</th>\n",
       "      <td>The vote in favour - by 46 out of 81 MPs - pav...</td>\n",
       "      <td>Montenegro's parliament has ratified the count...</td>\n",
       "    </tr>\n",
       "    <tr>\n",
       "      <th>18064</th>\n",
       "      <td>While National Museum Wales can thank the rema...</td>\n",
       "      <td>The richness of an art gallery's collection is...</td>\n",
       "    </tr>\n",
       "    <tr>\n",
       "      <th>186141</th>\n",
       "      <td>Media playback is unsupported on your device 3...</td>\n",
       "      <td>A video showing SNP councillors burning a copy...</td>\n",
       "    </tr>\n",
       "    <tr>\n",
       "      <th>83710</th>\n",
       "      <td>23 September 2016 Last updated at 14:12 BST It...</td>\n",
       "      <td>Scientists are trying to help save coral reefs...</td>\n",
       "    </tr>\n",
       "  </tbody>\n",
       "</table>\n",
       "</div>"
      ],
      "text/plain": [
       "                                                     text  \\\n",
       "76491   Rail, Maritime and Transport union (RMT) membe...   \n",
       "231752  The vote in favour - by 46 out of 81 MPs - pav...   \n",
       "18064   While National Museum Wales can thank the rema...   \n",
       "186141  Media playback is unsupported on your device 3...   \n",
       "83710   23 September 2016 Last updated at 14:12 BST It...   \n",
       "\n",
       "                                                  summary  \n",
       "76491   Possible strike action could disrupt Caledonia...  \n",
       "231752  Montenegro's parliament has ratified the count...  \n",
       "18064   The richness of an art gallery's collection is...  \n",
       "186141  A video showing SNP councillors burning a copy...  \n",
       "83710   Scientists are trying to help save coral reefs...  "
      ]
     },
     "execution_count": 7,
     "metadata": {},
     "output_type": "execute_result"
    }
   ],
   "source": [
    "# Take a look at the layout of the DataFrame \n",
    "train_df.head()"
   ]
  },
  {
   "cell_type": "code",
   "execution_count": 56,
   "metadata": {},
   "outputs": [],
   "source": [
    "# Write dataframe to a buffer in CSV format, and upload it to S3 \n",
    "for df in [train_df, validation_df]:\n",
    "    buffer = io.StringIO()\n",
    "    df.to_csv(buffer, index=False)\n",
    "    s3_resource.Object(session_bucket,f'xsum-dataset/{df.name}.csv').put(Body=buffer.getvalue())"
   ]
  }
 ],
 "metadata": {
  "interpreter": {
   "hash": "1edec871b91163b213f4329288431f1a5a5acc7dd459a3a5b7ed9d1c87524502"
  },
  "kernelspec": {
   "display_name": "Python 3.8.2 64-bit",
   "name": "python3"
  },
  "language_info": {
   "codemirror_mode": {
    "name": "ipython",
    "version": 3
   },
   "file_extension": ".py",
   "mimetype": "text/x-python",
   "name": "python",
   "nbconvert_exporter": "python",
   "pygments_lexer": "ipython3",
   "version": "3.8.2"
  }
 },
 "nbformat": 4,
 "nbformat_minor": 5
}